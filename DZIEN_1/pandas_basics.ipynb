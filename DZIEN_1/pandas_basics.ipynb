{
 "cells":[
  {
   "cell_type":"code",
   "source":[
    "import numpy as np\n",
    "import pandas as pd"
   ],
   "execution_count":1,
   "outputs":[
    
   ],
   "metadata":{
    "datalore":{
     "node_id":"eUrPhNCrT6RecS3EiKlXai",
     "type":"CODE",
     "hide_input_from_viewers":false,
     "hide_output_from_viewers":false
    }
   }
  },
  {
   "cell_type":"code",
   "source":[
    "sr = pd.Series([1,2,8,np.nan,17,9])\n",
    "sr"
   ],
   "execution_count":3,
   "outputs":[
    {
     "data":{
      "text\/html":[
       "<pre>0     1.0\n",
       "1     2.0\n",
       "2     8.0\n",
       "3     NaN\n",
       "4    17.0\n",
       "5     9.0\n",
       "dtype: float64<\/pre>"
      ]
     },
     "metadata":{
      
     },
     "output_type":"display_data"
    }
   ],
   "metadata":{
    "datalore":{
     "node_id":"yWRfWxoQEVrjQaJvszx0xk",
     "type":"CODE",
     "hide_input_from_viewers":false,
     "hide_output_from_viewers":false
    }
   }
  },
  {
   "cell_type":"code",
   "source":[
    "daty = pd.date_range(\"20230207\",periods=6)\n",
    "daty"
   ],
   "execution_count":6,
   "outputs":[
    {
     "data":{
      "text\/plain":[
       "DatetimeIndex(['2023-02-07', '2023-02-08', '2023-02-09', '2023-02-10',\n",
       "               '2023-02-11', '2023-02-12'],\n",
       "              dtype='datetime64[ns]', freq='D')"
      ]
     },
     "metadata":{
      
     },
     "output_type":"display_data"
    }
   ],
   "metadata":{
    "datalore":{
     "node_id":"KSMz4MbpUjl0yXjx8D0UpQ",
     "type":"CODE",
     "hide_input_from_viewers":false,
     "hide_output_from_viewers":false
    }
   }
  },
  {
   "cell_type":"code",
   "source":[
    "df = pd.DataFrame(np.random.rand(6,4),index=daty,columns=list(\"ABCD\"))\n",
    "df"
   ],
   "execution_count":7,
   "outputs":[
    {
     "data":{
      "text\/html":[
       "<div>\n",
       "<style scoped>\n",
       "    .dataframe tbody tr th:only-of-type {\n",
       "        vertical-align: middle;\n",
       "    }\n",
       "\n",
       "    .dataframe tbody tr th {\n",
       "        vertical-align: top;\n",
       "    }\n",
       "\n",
       "    .dataframe thead th {\n",
       "        text-align: right;\n",
       "    }\n",
       "<\/style>\n",
       "<table border=\"1\" class=\"dataframe\">\n",
       "  <thead>\n",
       "    <tr style=\"text-align: right;\">\n",
       "      <th><\/th>\n",
       "      <th>A<\/th>\n",
       "      <th>B<\/th>\n",
       "      <th>C<\/th>\n",
       "      <th>D<\/th>\n",
       "    <\/tr>\n",
       "  <\/thead>\n",
       "  <tbody>\n",
       "    <tr>\n",
       "      <th>2023-02-07<\/th>\n",
       "      <td>0.316170<\/td>\n",
       "      <td>0.074705<\/td>\n",
       "      <td>0.001064<\/td>\n",
       "      <td>0.795991<\/td>\n",
       "    <\/tr>\n",
       "    <tr>\n",
       "      <th>2023-02-08<\/th>\n",
       "      <td>0.156687<\/td>\n",
       "      <td>0.090128<\/td>\n",
       "      <td>0.839807<\/td>\n",
       "      <td>0.078959<\/td>\n",
       "    <\/tr>\n",
       "    <tr>\n",
       "      <th>2023-02-09<\/th>\n",
       "      <td>0.988682<\/td>\n",
       "      <td>0.969425<\/td>\n",
       "      <td>0.119700<\/td>\n",
       "      <td>0.205174<\/td>\n",
       "    <\/tr>\n",
       "    <tr>\n",
       "      <th>2023-02-10<\/th>\n",
       "      <td>0.924363<\/td>\n",
       "      <td>0.829190<\/td>\n",
       "      <td>0.969768<\/td>\n",
       "      <td>0.939323<\/td>\n",
       "    <\/tr>\n",
       "    <tr>\n",
       "      <th>2023-02-11<\/th>\n",
       "      <td>0.728227<\/td>\n",
       "      <td>0.845590<\/td>\n",
       "      <td>0.978837<\/td>\n",
       "      <td>0.435732<\/td>\n",
       "    <\/tr>\n",
       "    <tr>\n",
       "      <th>2023-02-12<\/th>\n",
       "      <td>0.668003<\/td>\n",
       "      <td>0.595073<\/td>\n",
       "      <td>0.250868<\/td>\n",
       "      <td>0.519682<\/td>\n",
       "    <\/tr>\n",
       "  <\/tbody>\n",
       "<\/table>\n",
       "<\/div>"
      ]
     },
     "metadata":{
      
     },
     "output_type":"display_data"
    }
   ],
   "metadata":{
    "datalore":{
     "node_id":"AYVOshGKQFnQcZrPNNrotS",
     "type":"CODE",
     "hide_input_from_viewers":false,
     "hide_output_from_viewers":false
    }
   }
  },
  {
   "cell_type":"code",
   "source":[
    "s= \"lajkonik\"\n",
    "print(s)"
   ],
   "execution_count":9,
   "outputs":[
    {
     "name":"stdout",
     "text":[
      "lajkonik\n"
     ],
     "output_type":"stream"
    }
   ],
   "metadata":{
    "datalore":{
     "node_id":"t33o0v6GAzWWkPgxQd3Yev",
     "type":"CODE",
     "hide_input_from_viewers":false,
     "hide_output_from_viewers":false
    }
   }
  },
  {
   "cell_type":"code",
   "source":[
    "print(s[0])\n",
    "print(s[2])\n",
    "print(s[2:5])\n",
    "print(s[4:])"
   ],
   "execution_count":10,
   "outputs":[
    {
     "name":"stdout",
     "text":[
      "l\n",
      "j\n",
      "jko\n",
      "onik\n"
     ],
     "output_type":"stream"
    }
   ],
   "metadata":{
    "datalore":{
     "node_id":"6ec0OIWQ7eDnYsTHk2P1W8",
     "type":"CODE",
     "hide_input_from_viewers":false,
     "hide_output_from_viewers":false
    }
   }
  },
  {
   "cell_type":"code",
   "source":[
    "df.head(3)"
   ],
   "execution_count":12,
   "outputs":[
    {
     "data":{
      "text\/html":[
       "<div>\n",
       "<style scoped>\n",
       "    .dataframe tbody tr th:only-of-type {\n",
       "        vertical-align: middle;\n",
       "    }\n",
       "\n",
       "    .dataframe tbody tr th {\n",
       "        vertical-align: top;\n",
       "    }\n",
       "\n",
       "    .dataframe thead th {\n",
       "        text-align: right;\n",
       "    }\n",
       "<\/style>\n",
       "<table border=\"1\" class=\"dataframe\">\n",
       "  <thead>\n",
       "    <tr style=\"text-align: right;\">\n",
       "      <th><\/th>\n",
       "      <th>A<\/th>\n",
       "      <th>B<\/th>\n",
       "      <th>C<\/th>\n",
       "      <th>D<\/th>\n",
       "    <\/tr>\n",
       "  <\/thead>\n",
       "  <tbody>\n",
       "    <tr>\n",
       "      <th>2023-02-07<\/th>\n",
       "      <td>0.316170<\/td>\n",
       "      <td>0.074705<\/td>\n",
       "      <td>0.001064<\/td>\n",
       "      <td>0.795991<\/td>\n",
       "    <\/tr>\n",
       "    <tr>\n",
       "      <th>2023-02-08<\/th>\n",
       "      <td>0.156687<\/td>\n",
       "      <td>0.090128<\/td>\n",
       "      <td>0.839807<\/td>\n",
       "      <td>0.078959<\/td>\n",
       "    <\/tr>\n",
       "    <tr>\n",
       "      <th>2023-02-09<\/th>\n",
       "      <td>0.988682<\/td>\n",
       "      <td>0.969425<\/td>\n",
       "      <td>0.119700<\/td>\n",
       "      <td>0.205174<\/td>\n",
       "    <\/tr>\n",
       "  <\/tbody>\n",
       "<\/table>\n",
       "<\/div>"
      ]
     },
     "metadata":{
      
     },
     "output_type":"display_data"
    }
   ],
   "metadata":{
    "datalore":{
     "node_id":"rh1WDC1csNNS6oggwERjzL",
     "type":"CODE",
     "hide_input_from_viewers":false,
     "hide_output_from_viewers":false
    }
   }
  },
  {
   "cell_type":"code",
   "source":[
    "df.tail(2)"
   ],
   "execution_count":13,
   "outputs":[
    {
     "data":{
      "text\/html":[
       "<div>\n",
       "<style scoped>\n",
       "    .dataframe tbody tr th:only-of-type {\n",
       "        vertical-align: middle;\n",
       "    }\n",
       "\n",
       "    .dataframe tbody tr th {\n",
       "        vertical-align: top;\n",
       "    }\n",
       "\n",
       "    .dataframe thead th {\n",
       "        text-align: right;\n",
       "    }\n",
       "<\/style>\n",
       "<table border=\"1\" class=\"dataframe\">\n",
       "  <thead>\n",
       "    <tr style=\"text-align: right;\">\n",
       "      <th><\/th>\n",
       "      <th>A<\/th>\n",
       "      <th>B<\/th>\n",
       "      <th>C<\/th>\n",
       "      <th>D<\/th>\n",
       "    <\/tr>\n",
       "  <\/thead>\n",
       "  <tbody>\n",
       "    <tr>\n",
       "      <th>2023-02-11<\/th>\n",
       "      <td>0.728227<\/td>\n",
       "      <td>0.845590<\/td>\n",
       "      <td>0.978837<\/td>\n",
       "      <td>0.435732<\/td>\n",
       "    <\/tr>\n",
       "    <tr>\n",
       "      <th>2023-02-12<\/th>\n",
       "      <td>0.668003<\/td>\n",
       "      <td>0.595073<\/td>\n",
       "      <td>0.250868<\/td>\n",
       "      <td>0.519682<\/td>\n",
       "    <\/tr>\n",
       "  <\/tbody>\n",
       "<\/table>\n",
       "<\/div>"
      ]
     },
     "metadata":{
      
     },
     "output_type":"display_data"
    }
   ],
   "metadata":{
    "datalore":{
     "node_id":"N84dqooC59QpeDEIZk5kN9",
     "type":"CODE",
     "hide_input_from_viewers":false,
     "hide_output_from_viewers":false
    }
   }
  },
  {
   "cell_type":"code",
   "source":[
    "df.index"
   ],
   "execution_count":14,
   "outputs":[
    {
     "data":{
      "text\/plain":[
       "DatetimeIndex(['2023-02-07', '2023-02-08', '2023-02-09', '2023-02-10',\n",
       "               '2023-02-11', '2023-02-12'],\n",
       "              dtype='datetime64[ns]', freq='D')"
      ]
     },
     "metadata":{
      
     },
     "output_type":"display_data"
    }
   ],
   "metadata":{
    "datalore":{
     "node_id":"232aQJWRnLJsk7tjpUkBUq",
     "type":"CODE",
     "hide_input_from_viewers":false,
     "hide_output_from_viewers":false
    }
   }
  },
  {
   "cell_type":"code",
   "source":[
    "df.columns"
   ],
   "execution_count":15,
   "outputs":[
    {
     "data":{
      "text\/plain":[
       "Index(['A', 'B', 'C', 'D'], dtype='object')"
      ]
     },
     "metadata":{
      
     },
     "output_type":"display_data"
    }
   ],
   "metadata":{
    "datalore":{
     "node_id":"byUIEQOrEt3uy6KW6ayPUK",
     "type":"CODE",
     "hide_input_from_viewers":false,
     "hide_output_from_viewers":false
    }
   }
  },
  {
   "cell_type":"code",
   "source":[
    "e = df.to_numpy()\n",
    "e"
   ],
   "execution_count":16,
   "outputs":[
    {
     "data":{
      "text\/html":[
       "<pre>array([[0.31616987, 0.07470543, 0.00106386, 0.79599083],\n",
       "       [0.15668682, 0.09012846, 0.8398068 , 0.07895934],\n",
       "       [0.98868221, 0.9694249 , 0.11969991, 0.20517396],\n",
       "       [0.92436264, 0.82918989, 0.96976803, 0.93932326],\n",
       "       [0.72822698, 0.84558962, 0.97883694, 0.43573178],\n",
       "       [0.66800339, 0.5950734 , 0.25086832, 0.51968155]])<\/pre>"
      ]
     },
     "metadata":{
      
     },
     "output_type":"display_data"
    }
   ],
   "metadata":{
    "datalore":{
     "node_id":"9opeEmgWCFScFleAQPEg9P",
     "type":"CODE",
     "hide_input_from_viewers":false,
     "hide_output_from_viewers":false
    }
   }
  },
  {
   "cell_type":"code",
   "source":[
    "print(type(df))\n",
    "print(type(e))"
   ],
   "execution_count":17,
   "outputs":[
    {
     "name":"stdout",
     "text":[
      "<class 'pandas.core.frame.DataFrame'>\n",
      "<class 'numpy.ndarray'>\n"
     ],
     "output_type":"stream"
    }
   ],
   "metadata":{
    "datalore":{
     "node_id":"xrF44xphrfPiicUzA73mcK",
     "type":"CODE",
     "hide_input_from_viewers":false,
     "hide_output_from_viewers":false
    }
   }
  },
  {
   "cell_type":"code",
   "source":[
    "df.describe()"
   ],
   "execution_count":18,
   "outputs":[
    {
     "data":{
      "text\/html":[
       "<div>\n",
       "<style scoped>\n",
       "    .dataframe tbody tr th:only-of-type {\n",
       "        vertical-align: middle;\n",
       "    }\n",
       "\n",
       "    .dataframe tbody tr th {\n",
       "        vertical-align: top;\n",
       "    }\n",
       "\n",
       "    .dataframe thead th {\n",
       "        text-align: right;\n",
       "    }\n",
       "<\/style>\n",
       "<table border=\"1\" class=\"dataframe\">\n",
       "  <thead>\n",
       "    <tr style=\"text-align: right;\">\n",
       "      <th><\/th>\n",
       "      <th>A<\/th>\n",
       "      <th>B<\/th>\n",
       "      <th>C<\/th>\n",
       "      <th>D<\/th>\n",
       "    <\/tr>\n",
       "  <\/thead>\n",
       "  <tbody>\n",
       "    <tr>\n",
       "      <th>count<\/th>\n",
       "      <td>6.000000<\/td>\n",
       "      <td>6.000000<\/td>\n",
       "      <td>6.000000<\/td>\n",
       "      <td>6.000000<\/td>\n",
       "    <\/tr>\n",
       "    <tr>\n",
       "      <th>mean<\/th>\n",
       "      <td>0.630355<\/td>\n",
       "      <td>0.567352<\/td>\n",
       "      <td>0.526674<\/td>\n",
       "      <td>0.495810<\/td>\n",
       "    <\/tr>\n",
       "    <tr>\n",
       "      <th>std<\/th>\n",
       "      <td>0.331333<\/td>\n",
       "      <td>0.394677<\/td>\n",
       "      <td>0.450954<\/td>\n",
       "      <td>0.331429<\/td>\n",
       "    <\/tr>\n",
       "    <tr>\n",
       "      <th>min<\/th>\n",
       "      <td>0.156687<\/td>\n",
       "      <td>0.074705<\/td>\n",
       "      <td>0.001064<\/td>\n",
       "      <td>0.078959<\/td>\n",
       "    <\/tr>\n",
       "    <tr>\n",
       "      <th>25%<\/th>\n",
       "      <td>0.404128<\/td>\n",
       "      <td>0.216365<\/td>\n",
       "      <td>0.152492<\/td>\n",
       "      <td>0.262813<\/td>\n",
       "    <\/tr>\n",
       "    <tr>\n",
       "      <th>50%<\/th>\n",
       "      <td>0.698115<\/td>\n",
       "      <td>0.712132<\/td>\n",
       "      <td>0.545338<\/td>\n",
       "      <td>0.477707<\/td>\n",
       "    <\/tr>\n",
       "    <tr>\n",
       "      <th>75%<\/th>\n",
       "      <td>0.875329<\/td>\n",
       "      <td>0.841490<\/td>\n",
       "      <td>0.937278<\/td>\n",
       "      <td>0.726914<\/td>\n",
       "    <\/tr>\n",
       "    <tr>\n",
       "      <th>max<\/th>\n",
       "      <td>0.988682<\/td>\n",
       "      <td>0.969425<\/td>\n",
       "      <td>0.978837<\/td>\n",
       "      <td>0.939323<\/td>\n",
       "    <\/tr>\n",
       "  <\/tbody>\n",
       "<\/table>\n",
       "<\/div>"
      ]
     },
     "metadata":{
      
     },
     "output_type":"display_data"
    }
   ],
   "metadata":{
    "datalore":{
     "node_id":"OirlslneMHm02WGvVK5GL9",
     "type":"CODE",
     "hide_input_from_viewers":false,
     "hide_output_from_viewers":false
    }
   }
  },
  {
   "cell_type":"code",
   "source":[
    "e.describe()"
   ],
   "execution_count":19,
   "outputs":[
    {
     "ename":"AttributeError",
     "evalue":"AttributeError: 'numpy.ndarray' object has no attribute 'describe'",
     "traceback":[
      "\u001b[0;31m---------------------------------------------------------------------------",
      "Traceback (most recent call last)",
      "    at line 1 in <module>",
      "AttributeError: 'numpy.ndarray' object has no attribute 'describe'"
     ],
     "output_type":"error"
    }
   ],
   "metadata":{
    "datalore":{
     "node_id":"Q4CVM50UlGvkxBmqisYnPo",
     "type":"CODE",
     "hide_input_from_viewers":false,
     "hide_output_from_viewers":false
    }
   }
  },
  {
   "cell_type":"code",
   "source":[
    "df.T"
   ],
   "execution_count":20,
   "outputs":[
    {
     "data":{
      "text\/html":[
       "<div>\n",
       "<style scoped>\n",
       "    .dataframe tbody tr th:only-of-type {\n",
       "        vertical-align: middle;\n",
       "    }\n",
       "\n",
       "    .dataframe tbody tr th {\n",
       "        vertical-align: top;\n",
       "    }\n",
       "\n",
       "    .dataframe thead th {\n",
       "        text-align: right;\n",
       "    }\n",
       "<\/style>\n",
       "<table border=\"1\" class=\"dataframe\">\n",
       "  <thead>\n",
       "    <tr style=\"text-align: right;\">\n",
       "      <th><\/th>\n",
       "      <th>2023-02-07<\/th>\n",
       "      <th>2023-02-08<\/th>\n",
       "      <th>2023-02-09<\/th>\n",
       "      <th>2023-02-10<\/th>\n",
       "      <th>2023-02-11<\/th>\n",
       "      <th>2023-02-12<\/th>\n",
       "    <\/tr>\n",
       "  <\/thead>\n",
       "  <tbody>\n",
       "    <tr>\n",
       "      <th>A<\/th>\n",
       "      <td>0.316170<\/td>\n",
       "      <td>0.156687<\/td>\n",
       "      <td>0.988682<\/td>\n",
       "      <td>0.924363<\/td>\n",
       "      <td>0.728227<\/td>\n",
       "      <td>0.668003<\/td>\n",
       "    <\/tr>\n",
       "    <tr>\n",
       "      <th>B<\/th>\n",
       "      <td>0.074705<\/td>\n",
       "      <td>0.090128<\/td>\n",
       "      <td>0.969425<\/td>\n",
       "      <td>0.829190<\/td>\n",
       "      <td>0.845590<\/td>\n",
       "      <td>0.595073<\/td>\n",
       "    <\/tr>\n",
       "    <tr>\n",
       "      <th>C<\/th>\n",
       "      <td>0.001064<\/td>\n",
       "      <td>0.839807<\/td>\n",
       "      <td>0.119700<\/td>\n",
       "      <td>0.969768<\/td>\n",
       "      <td>0.978837<\/td>\n",
       "      <td>0.250868<\/td>\n",
       "    <\/tr>\n",
       "    <tr>\n",
       "      <th>D<\/th>\n",
       "      <td>0.795991<\/td>\n",
       "      <td>0.078959<\/td>\n",
       "      <td>0.205174<\/td>\n",
       "      <td>0.939323<\/td>\n",
       "      <td>0.435732<\/td>\n",
       "      <td>0.519682<\/td>\n",
       "    <\/tr>\n",
       "  <\/tbody>\n",
       "<\/table>\n",
       "<\/div>"
      ]
     },
     "metadata":{
      
     },
     "output_type":"display_data"
    }
   ],
   "metadata":{
    "datalore":{
     "node_id":"vUZIgspX8xrNctYFJGJbr8",
     "type":"CODE",
     "hide_input_from_viewers":false,
     "hide_output_from_viewers":false
    }
   }
  },
  {
   "cell_type":"code",
   "source":[
    "df.sort_index(axis=1,ascending=False)"
   ],
   "execution_count":23,
   "outputs":[
    {
     "data":{
      "text\/html":[
       "<div>\n",
       "<style scoped>\n",
       "    .dataframe tbody tr th:only-of-type {\n",
       "        vertical-align: middle;\n",
       "    }\n",
       "\n",
       "    .dataframe tbody tr th {\n",
       "        vertical-align: top;\n",
       "    }\n",
       "\n",
       "    .dataframe thead th {\n",
       "        text-align: right;\n",
       "    }\n",
       "<\/style>\n",
       "<table border=\"1\" class=\"dataframe\">\n",
       "  <thead>\n",
       "    <tr style=\"text-align: right;\">\n",
       "      <th><\/th>\n",
       "      <th>D<\/th>\n",
       "      <th>C<\/th>\n",
       "      <th>B<\/th>\n",
       "      <th>A<\/th>\n",
       "    <\/tr>\n",
       "  <\/thead>\n",
       "  <tbody>\n",
       "    <tr>\n",
       "      <th>2023-02-07<\/th>\n",
       "      <td>0.795991<\/td>\n",
       "      <td>0.001064<\/td>\n",
       "      <td>0.074705<\/td>\n",
       "      <td>0.316170<\/td>\n",
       "    <\/tr>\n",
       "    <tr>\n",
       "      <th>2023-02-08<\/th>\n",
       "      <td>0.078959<\/td>\n",
       "      <td>0.839807<\/td>\n",
       "      <td>0.090128<\/td>\n",
       "      <td>0.156687<\/td>\n",
       "    <\/tr>\n",
       "    <tr>\n",
       "      <th>2023-02-09<\/th>\n",
       "      <td>0.205174<\/td>\n",
       "      <td>0.119700<\/td>\n",
       "      <td>0.969425<\/td>\n",
       "      <td>0.988682<\/td>\n",
       "    <\/tr>\n",
       "    <tr>\n",
       "      <th>2023-02-10<\/th>\n",
       "      <td>0.939323<\/td>\n",
       "      <td>0.969768<\/td>\n",
       "      <td>0.829190<\/td>\n",
       "      <td>0.924363<\/td>\n",
       "    <\/tr>\n",
       "    <tr>\n",
       "      <th>2023-02-11<\/th>\n",
       "      <td>0.435732<\/td>\n",
       "      <td>0.978837<\/td>\n",
       "      <td>0.845590<\/td>\n",
       "      <td>0.728227<\/td>\n",
       "    <\/tr>\n",
       "    <tr>\n",
       "      <th>2023-02-12<\/th>\n",
       "      <td>0.519682<\/td>\n",
       "      <td>0.250868<\/td>\n",
       "      <td>0.595073<\/td>\n",
       "      <td>0.668003<\/td>\n",
       "    <\/tr>\n",
       "  <\/tbody>\n",
       "<\/table>\n",
       "<\/div>"
      ]
     },
     "metadata":{
      
     },
     "output_type":"display_data"
    }
   ],
   "metadata":{
    "datalore":{
     "node_id":"m2THwzufLNeoqAFpKtyyXp",
     "type":"CODE",
     "hide_input_from_viewers":false,
     "hide_output_from_viewers":false
    }
   }
  },
  {
   "cell_type":"code",
   "source":[
    "df.sort_values(by=\"B\")"
   ],
   "execution_count":24,
   "outputs":[
    {
     "data":{
      "text\/html":[
       "<div>\n",
       "<style scoped>\n",
       "    .dataframe tbody tr th:only-of-type {\n",
       "        vertical-align: middle;\n",
       "    }\n",
       "\n",
       "    .dataframe tbody tr th {\n",
       "        vertical-align: top;\n",
       "    }\n",
       "\n",
       "    .dataframe thead th {\n",
       "        text-align: right;\n",
       "    }\n",
       "<\/style>\n",
       "<table border=\"1\" class=\"dataframe\">\n",
       "  <thead>\n",
       "    <tr style=\"text-align: right;\">\n",
       "      <th><\/th>\n",
       "      <th>A<\/th>\n",
       "      <th>B<\/th>\n",
       "      <th>C<\/th>\n",
       "      <th>D<\/th>\n",
       "    <\/tr>\n",
       "  <\/thead>\n",
       "  <tbody>\n",
       "    <tr>\n",
       "      <th>2023-02-07<\/th>\n",
       "      <td>0.316170<\/td>\n",
       "      <td>0.074705<\/td>\n",
       "      <td>0.001064<\/td>\n",
       "      <td>0.795991<\/td>\n",
       "    <\/tr>\n",
       "    <tr>\n",
       "      <th>2023-02-08<\/th>\n",
       "      <td>0.156687<\/td>\n",
       "      <td>0.090128<\/td>\n",
       "      <td>0.839807<\/td>\n",
       "      <td>0.078959<\/td>\n",
       "    <\/tr>\n",
       "    <tr>\n",
       "      <th>2023-02-12<\/th>\n",
       "      <td>0.668003<\/td>\n",
       "      <td>0.595073<\/td>\n",
       "      <td>0.250868<\/td>\n",
       "      <td>0.519682<\/td>\n",
       "    <\/tr>\n",
       "    <tr>\n",
       "      <th>2023-02-10<\/th>\n",
       "      <td>0.924363<\/td>\n",
       "      <td>0.829190<\/td>\n",
       "      <td>0.969768<\/td>\n",
       "      <td>0.939323<\/td>\n",
       "    <\/tr>\n",
       "    <tr>\n",
       "      <th>2023-02-11<\/th>\n",
       "      <td>0.728227<\/td>\n",
       "      <td>0.845590<\/td>\n",
       "      <td>0.978837<\/td>\n",
       "      <td>0.435732<\/td>\n",
       "    <\/tr>\n",
       "    <tr>\n",
       "      <th>2023-02-09<\/th>\n",
       "      <td>0.988682<\/td>\n",
       "      <td>0.969425<\/td>\n",
       "      <td>0.119700<\/td>\n",
       "      <td>0.205174<\/td>\n",
       "    <\/tr>\n",
       "  <\/tbody>\n",
       "<\/table>\n",
       "<\/div>"
      ]
     },
     "metadata":{
      
     },
     "output_type":"display_data"
    }
   ],
   "metadata":{
    "datalore":{
     "node_id":"Cyo1ovGQ7uSgb3L93WCk6q",
     "type":"CODE",
     "hide_input_from_viewers":false,
     "hide_output_from_viewers":false
    }
   }
  },
  {
   "cell_type":"code",
   "source":[
    "df[\"A\"]"
   ],
   "execution_count":25,
   "outputs":[
    {
     "data":{
      "text\/html":[
       "<pre>2023-02-07    0.316170\n",
       "2023-02-08    0.156687\n",
       "2023-02-09    0.988682\n",
       "2023-02-10    0.924363\n",
       "2023-02-11    0.728227\n",
       "2023-02-12    0.668003\n",
       "Freq: D, Name: A, dtype: float64<\/pre>"
      ]
     },
     "metadata":{
      
     },
     "output_type":"display_data"
    }
   ],
   "metadata":{
    "datalore":{
     "node_id":"1LowpJFkEXDMxj0UKDUbWL",
     "type":"CODE",
     "hide_input_from_viewers":false,
     "hide_output_from_viewers":false
    }
   }
  },
  {
   "cell_type":"code",
   "source":[
    "df[0:3]"
   ],
   "execution_count":26,
   "outputs":[
    {
     "data":{
      "text\/html":[
       "<div>\n",
       "<style scoped>\n",
       "    .dataframe tbody tr th:only-of-type {\n",
       "        vertical-align: middle;\n",
       "    }\n",
       "\n",
       "    .dataframe tbody tr th {\n",
       "        vertical-align: top;\n",
       "    }\n",
       "\n",
       "    .dataframe thead th {\n",
       "        text-align: right;\n",
       "    }\n",
       "<\/style>\n",
       "<table border=\"1\" class=\"dataframe\">\n",
       "  <thead>\n",
       "    <tr style=\"text-align: right;\">\n",
       "      <th><\/th>\n",
       "      <th>A<\/th>\n",
       "      <th>B<\/th>\n",
       "      <th>C<\/th>\n",
       "      <th>D<\/th>\n",
       "    <\/tr>\n",
       "  <\/thead>\n",
       "  <tbody>\n",
       "    <tr>\n",
       "      <th>2023-02-07<\/th>\n",
       "      <td>0.316170<\/td>\n",
       "      <td>0.074705<\/td>\n",
       "      <td>0.001064<\/td>\n",
       "      <td>0.795991<\/td>\n",
       "    <\/tr>\n",
       "    <tr>\n",
       "      <th>2023-02-08<\/th>\n",
       "      <td>0.156687<\/td>\n",
       "      <td>0.090128<\/td>\n",
       "      <td>0.839807<\/td>\n",
       "      <td>0.078959<\/td>\n",
       "    <\/tr>\n",
       "    <tr>\n",
       "      <th>2023-02-09<\/th>\n",
       "      <td>0.988682<\/td>\n",
       "      <td>0.969425<\/td>\n",
       "      <td>0.119700<\/td>\n",
       "      <td>0.205174<\/td>\n",
       "    <\/tr>\n",
       "  <\/tbody>\n",
       "<\/table>\n",
       "<\/div>"
      ]
     },
     "metadata":{
      
     },
     "output_type":"display_data"
    }
   ],
   "metadata":{
    "datalore":{
     "node_id":"x7tOrOH2rUowQKHkSh4ILY",
     "type":"CODE",
     "hide_input_from_viewers":false,
     "hide_output_from_viewers":false
    }
   }
  },
  {
   "cell_type":"code",
   "source":[
    "df[\"20230208\":\"20230210\"]"
   ],
   "execution_count":28,
   "outputs":[
    {
     "data":{
      "text\/html":[
       "<div>\n",
       "<style scoped>\n",
       "    .dataframe tbody tr th:only-of-type {\n",
       "        vertical-align: middle;\n",
       "    }\n",
       "\n",
       "    .dataframe tbody tr th {\n",
       "        vertical-align: top;\n",
       "    }\n",
       "\n",
       "    .dataframe thead th {\n",
       "        text-align: right;\n",
       "    }\n",
       "<\/style>\n",
       "<table border=\"1\" class=\"dataframe\">\n",
       "  <thead>\n",
       "    <tr style=\"text-align: right;\">\n",
       "      <th><\/th>\n",
       "      <th>A<\/th>\n",
       "      <th>B<\/th>\n",
       "      <th>C<\/th>\n",
       "      <th>D<\/th>\n",
       "    <\/tr>\n",
       "  <\/thead>\n",
       "  <tbody>\n",
       "    <tr>\n",
       "      <th>2023-02-08<\/th>\n",
       "      <td>0.156687<\/td>\n",
       "      <td>0.090128<\/td>\n",
       "      <td>0.839807<\/td>\n",
       "      <td>0.078959<\/td>\n",
       "    <\/tr>\n",
       "    <tr>\n",
       "      <th>2023-02-09<\/th>\n",
       "      <td>0.988682<\/td>\n",
       "      <td>0.969425<\/td>\n",
       "      <td>0.119700<\/td>\n",
       "      <td>0.205174<\/td>\n",
       "    <\/tr>\n",
       "    <tr>\n",
       "      <th>2023-02-10<\/th>\n",
       "      <td>0.924363<\/td>\n",
       "      <td>0.829190<\/td>\n",
       "      <td>0.969768<\/td>\n",
       "      <td>0.939323<\/td>\n",
       "    <\/tr>\n",
       "  <\/tbody>\n",
       "<\/table>\n",
       "<\/div>"
      ]
     },
     "metadata":{
      
     },
     "output_type":"display_data"
    }
   ],
   "metadata":{
    "datalore":{
     "node_id":"qHLE54bw829erpj09ZSMhF",
     "type":"CODE",
     "hide_input_from_viewers":false,
     "hide_output_from_viewers":false
    }
   }
  },
  {
   "cell_type":"code",
   "source":[
    "df.iloc[3]"
   ],
   "execution_count":29,
   "outputs":[
    {
     "data":{
      "text\/html":[
       "<pre>A    0.924363\n",
       "B    0.829190\n",
       "C    0.969768\n",
       "D    0.939323\n",
       "Name: 2023-02-10 00:00:00, dtype: float64<\/pre>"
      ]
     },
     "metadata":{
      
     },
     "output_type":"display_data"
    }
   ],
   "metadata":{
    "datalore":{
     "node_id":"DHwjqqEECHavsdlth9R4Xm",
     "type":"CODE",
     "hide_input_from_viewers":false,
     "hide_output_from_viewers":false
    }
   }
  },
  {
   "cell_type":"code",
   "source":[
    "df.iloc[3:5,0:2]"
   ],
   "execution_count":31,
   "outputs":[
    {
     "data":{
      "text\/html":[
       "<div>\n",
       "<style scoped>\n",
       "    .dataframe tbody tr th:only-of-type {\n",
       "        vertical-align: middle;\n",
       "    }\n",
       "\n",
       "    .dataframe tbody tr th {\n",
       "        vertical-align: top;\n",
       "    }\n",
       "\n",
       "    .dataframe thead th {\n",
       "        text-align: right;\n",
       "    }\n",
       "<\/style>\n",
       "<table border=\"1\" class=\"dataframe\">\n",
       "  <thead>\n",
       "    <tr style=\"text-align: right;\">\n",
       "      <th><\/th>\n",
       "      <th>A<\/th>\n",
       "      <th>B<\/th>\n",
       "    <\/tr>\n",
       "  <\/thead>\n",
       "  <tbody>\n",
       "    <tr>\n",
       "      <th>2023-02-10<\/th>\n",
       "      <td>0.924363<\/td>\n",
       "      <td>0.82919<\/td>\n",
       "    <\/tr>\n",
       "    <tr>\n",
       "      <th>2023-02-11<\/th>\n",
       "      <td>0.728227<\/td>\n",
       "      <td>0.84559<\/td>\n",
       "    <\/tr>\n",
       "  <\/tbody>\n",
       "<\/table>\n",
       "<\/div>"
      ]
     },
     "metadata":{
      
     },
     "output_type":"display_data"
    }
   ],
   "metadata":{
    "datalore":{
     "node_id":"jxwFj68NjRVq3enob5yPgF",
     "type":"CODE",
     "hide_input_from_viewers":false,
     "hide_output_from_viewers":false
    }
   }
  },
  {
   "cell_type":"code",
   "source":[
    "df.iloc[[1,2,4],[0,2]]"
   ],
   "execution_count":32,
   "outputs":[
    {
     "data":{
      "text\/html":[
       "<div>\n",
       "<style scoped>\n",
       "    .dataframe tbody tr th:only-of-type {\n",
       "        vertical-align: middle;\n",
       "    }\n",
       "\n",
       "    .dataframe tbody tr th {\n",
       "        vertical-align: top;\n",
       "    }\n",
       "\n",
       "    .dataframe thead th {\n",
       "        text-align: right;\n",
       "    }\n",
       "<\/style>\n",
       "<table border=\"1\" class=\"dataframe\">\n",
       "  <thead>\n",
       "    <tr style=\"text-align: right;\">\n",
       "      <th><\/th>\n",
       "      <th>A<\/th>\n",
       "      <th>C<\/th>\n",
       "    <\/tr>\n",
       "  <\/thead>\n",
       "  <tbody>\n",
       "    <tr>\n",
       "      <th>2023-02-08<\/th>\n",
       "      <td>0.156687<\/td>\n",
       "      <td>0.839807<\/td>\n",
       "    <\/tr>\n",
       "    <tr>\n",
       "      <th>2023-02-09<\/th>\n",
       "      <td>0.988682<\/td>\n",
       "      <td>0.119700<\/td>\n",
       "    <\/tr>\n",
       "    <tr>\n",
       "      <th>2023-02-11<\/th>\n",
       "      <td>0.728227<\/td>\n",
       "      <td>0.978837<\/td>\n",
       "    <\/tr>\n",
       "  <\/tbody>\n",
       "<\/table>\n",
       "<\/div>"
      ]
     },
     "metadata":{
      
     },
     "output_type":"display_data"
    }
   ],
   "metadata":{
    "datalore":{
     "node_id":"o7QQw3SjTOmAGePCB9xl3x",
     "type":"CODE",
     "hide_input_from_viewers":false,
     "hide_output_from_viewers":false
    }
   }
  },
  {
   "cell_type":"code",
   "source":[
    "df.iloc[1,1]"
   ],
   "execution_count":33,
   "outputs":[
    {
     "data":{
      "text\/plain":[
       "0.090128461127568"
      ]
     },
     "metadata":{
      
     },
     "output_type":"display_data"
    }
   ],
   "metadata":{
    "datalore":{
     "node_id":"VkHkRHZq38ychESjy25SQm",
     "type":"CODE",
     "hide_input_from_viewers":false,
     "hide_output_from_viewers":false
    }
   }
  },
  {
   "cell_type":"code",
   "source":[
    "df[df[\"A\"]>0.3]"
   ],
   "execution_count":34,
   "outputs":[
    {
     "data":{
      "text\/html":[
       "<div>\n",
       "<style scoped>\n",
       "    .dataframe tbody tr th:only-of-type {\n",
       "        vertical-align: middle;\n",
       "    }\n",
       "\n",
       "    .dataframe tbody tr th {\n",
       "        vertical-align: top;\n",
       "    }\n",
       "\n",
       "    .dataframe thead th {\n",
       "        text-align: right;\n",
       "    }\n",
       "<\/style>\n",
       "<table border=\"1\" class=\"dataframe\">\n",
       "  <thead>\n",
       "    <tr style=\"text-align: right;\">\n",
       "      <th><\/th>\n",
       "      <th>A<\/th>\n",
       "      <th>B<\/th>\n",
       "      <th>C<\/th>\n",
       "      <th>D<\/th>\n",
       "    <\/tr>\n",
       "  <\/thead>\n",
       "  <tbody>\n",
       "    <tr>\n",
       "      <th>2023-02-07<\/th>\n",
       "      <td>0.316170<\/td>\n",
       "      <td>0.074705<\/td>\n",
       "      <td>0.001064<\/td>\n",
       "      <td>0.795991<\/td>\n",
       "    <\/tr>\n",
       "    <tr>\n",
       "      <th>2023-02-09<\/th>\n",
       "      <td>0.988682<\/td>\n",
       "      <td>0.969425<\/td>\n",
       "      <td>0.119700<\/td>\n",
       "      <td>0.205174<\/td>\n",
       "    <\/tr>\n",
       "    <tr>\n",
       "      <th>2023-02-10<\/th>\n",
       "      <td>0.924363<\/td>\n",
       "      <td>0.829190<\/td>\n",
       "      <td>0.969768<\/td>\n",
       "      <td>0.939323<\/td>\n",
       "    <\/tr>\n",
       "    <tr>\n",
       "      <th>2023-02-11<\/th>\n",
       "      <td>0.728227<\/td>\n",
       "      <td>0.845590<\/td>\n",
       "      <td>0.978837<\/td>\n",
       "      <td>0.435732<\/td>\n",
       "    <\/tr>\n",
       "    <tr>\n",
       "      <th>2023-02-12<\/th>\n",
       "      <td>0.668003<\/td>\n",
       "      <td>0.595073<\/td>\n",
       "      <td>0.250868<\/td>\n",
       "      <td>0.519682<\/td>\n",
       "    <\/tr>\n",
       "  <\/tbody>\n",
       "<\/table>\n",
       "<\/div>"
      ]
     },
     "metadata":{
      
     },
     "output_type":"display_data"
    }
   ],
   "metadata":{
    "datalore":{
     "node_id":"oKi2mgHIxSo51RibBUT2k2",
     "type":"CODE",
     "hide_input_from_viewers":false,
     "hide_output_from_viewers":false
    }
   }
  },
  {
   "cell_type":"code",
   "source":[
    "df2 = df.copy()"
   ],
   "execution_count":35,
   "outputs":[
    
   ],
   "metadata":{
    "datalore":{
     "node_id":"43ygSjN8vwmMf2MZWcZcl9",
     "type":"CODE",
     "hide_input_from_viewers":false,
     "hide_output_from_viewers":false
    }
   }
  },
  {
   "cell_type":"code",
   "source":[
    "df2[\"E\"] = [\"pierwszy\",\"drugi\",\"trzeci\",\"pierwszy\",\"trzeci\",\"pierwszy\"]"
   ],
   "execution_count":36,
   "outputs":[
    
   ],
   "metadata":{
    "datalore":{
     "node_id":"x2kV4b57MTLxmzyJKy90cu",
     "type":"CODE",
     "hide_input_from_viewers":false,
     "hide_output_from_viewers":false
    }
   }
  },
  {
   "cell_type":"code",
   "source":[
    "df2"
   ],
   "execution_count":37,
   "outputs":[
    {
     "data":{
      "text\/html":[
       "<div>\n",
       "<style scoped>\n",
       "    .dataframe tbody tr th:only-of-type {\n",
       "        vertical-align: middle;\n",
       "    }\n",
       "\n",
       "    .dataframe tbody tr th {\n",
       "        vertical-align: top;\n",
       "    }\n",
       "\n",
       "    .dataframe thead th {\n",
       "        text-align: right;\n",
       "    }\n",
       "<\/style>\n",
       "<table border=\"1\" class=\"dataframe\">\n",
       "  <thead>\n",
       "    <tr style=\"text-align: right;\">\n",
       "      <th><\/th>\n",
       "      <th>A<\/th>\n",
       "      <th>B<\/th>\n",
       "      <th>C<\/th>\n",
       "      <th>D<\/th>\n",
       "      <th>E<\/th>\n",
       "    <\/tr>\n",
       "  <\/thead>\n",
       "  <tbody>\n",
       "    <tr>\n",
       "      <th>2023-02-07<\/th>\n",
       "      <td>0.316170<\/td>\n",
       "      <td>0.074705<\/td>\n",
       "      <td>0.001064<\/td>\n",
       "      <td>0.795991<\/td>\n",
       "      <td>pierwszy<\/td>\n",
       "    <\/tr>\n",
       "    <tr>\n",
       "      <th>2023-02-08<\/th>\n",
       "      <td>0.156687<\/td>\n",
       "      <td>0.090128<\/td>\n",
       "      <td>0.839807<\/td>\n",
       "      <td>0.078959<\/td>\n",
       "      <td>drugi<\/td>\n",
       "    <\/tr>\n",
       "    <tr>\n",
       "      <th>2023-02-09<\/th>\n",
       "      <td>0.988682<\/td>\n",
       "      <td>0.969425<\/td>\n",
       "      <td>0.119700<\/td>\n",
       "      <td>0.205174<\/td>\n",
       "      <td>trzeci<\/td>\n",
       "    <\/tr>\n",
       "    <tr>\n",
       "      <th>2023-02-10<\/th>\n",
       "      <td>0.924363<\/td>\n",
       "      <td>0.829190<\/td>\n",
       "      <td>0.969768<\/td>\n",
       "      <td>0.939323<\/td>\n",
       "      <td>pierwszy<\/td>\n",
       "    <\/tr>\n",
       "    <tr>\n",
       "      <th>2023-02-11<\/th>\n",
       "      <td>0.728227<\/td>\n",
       "      <td>0.845590<\/td>\n",
       "      <td>0.978837<\/td>\n",
       "      <td>0.435732<\/td>\n",
       "      <td>trzeci<\/td>\n",
       "    <\/tr>\n",
       "    <tr>\n",
       "      <th>2023-02-12<\/th>\n",
       "      <td>0.668003<\/td>\n",
       "      <td>0.595073<\/td>\n",
       "      <td>0.250868<\/td>\n",
       "      <td>0.519682<\/td>\n",
       "      <td>pierwszy<\/td>\n",
       "    <\/tr>\n",
       "  <\/tbody>\n",
       "<\/table>\n",
       "<\/div>"
      ]
     },
     "metadata":{
      
     },
     "output_type":"display_data"
    }
   ],
   "metadata":{
    "datalore":{
     "node_id":"vzw8aJZmIIi1ujh6418tIT",
     "type":"CODE",
     "hide_input_from_viewers":false,
     "hide_output_from_viewers":false
    }
   }
  },
  {
   "cell_type":"code",
   "source":[
    "df2[df2[\"E\"].isin([\"pierwszy\",\"trzeci\"])]"
   ],
   "execution_count":39,
   "outputs":[
    {
     "data":{
      "text\/html":[
       "<div>\n",
       "<style scoped>\n",
       "    .dataframe tbody tr th:only-of-type {\n",
       "        vertical-align: middle;\n",
       "    }\n",
       "\n",
       "    .dataframe tbody tr th {\n",
       "        vertical-align: top;\n",
       "    }\n",
       "\n",
       "    .dataframe thead th {\n",
       "        text-align: right;\n",
       "    }\n",
       "<\/style>\n",
       "<table border=\"1\" class=\"dataframe\">\n",
       "  <thead>\n",
       "    <tr style=\"text-align: right;\">\n",
       "      <th><\/th>\n",
       "      <th>A<\/th>\n",
       "      <th>B<\/th>\n",
       "      <th>C<\/th>\n",
       "      <th>D<\/th>\n",
       "      <th>E<\/th>\n",
       "    <\/tr>\n",
       "  <\/thead>\n",
       "  <tbody>\n",
       "    <tr>\n",
       "      <th>2023-02-07<\/th>\n",
       "      <td>0.316170<\/td>\n",
       "      <td>0.074705<\/td>\n",
       "      <td>0.001064<\/td>\n",
       "      <td>0.795991<\/td>\n",
       "      <td>pierwszy<\/td>\n",
       "    <\/tr>\n",
       "    <tr>\n",
       "      <th>2023-02-09<\/th>\n",
       "      <td>0.988682<\/td>\n",
       "      <td>0.969425<\/td>\n",
       "      <td>0.119700<\/td>\n",
       "      <td>0.205174<\/td>\n",
       "      <td>trzeci<\/td>\n",
       "    <\/tr>\n",
       "    <tr>\n",
       "      <th>2023-02-10<\/th>\n",
       "      <td>0.924363<\/td>\n",
       "      <td>0.829190<\/td>\n",
       "      <td>0.969768<\/td>\n",
       "      <td>0.939323<\/td>\n",
       "      <td>pierwszy<\/td>\n",
       "    <\/tr>\n",
       "    <tr>\n",
       "      <th>2023-02-11<\/th>\n",
       "      <td>0.728227<\/td>\n",
       "      <td>0.845590<\/td>\n",
       "      <td>0.978837<\/td>\n",
       "      <td>0.435732<\/td>\n",
       "      <td>trzeci<\/td>\n",
       "    <\/tr>\n",
       "    <tr>\n",
       "      <th>2023-02-12<\/th>\n",
       "      <td>0.668003<\/td>\n",
       "      <td>0.595073<\/td>\n",
       "      <td>0.250868<\/td>\n",
       "      <td>0.519682<\/td>\n",
       "      <td>pierwszy<\/td>\n",
       "    <\/tr>\n",
       "  <\/tbody>\n",
       "<\/table>\n",
       "<\/div>"
      ]
     },
     "metadata":{
      
     },
     "output_type":"display_data"
    }
   ],
   "metadata":{
    "datalore":{
     "node_id":"qC3tOHkLmCGEESJJk0WSNt",
     "type":"CODE",
     "hide_input_from_viewers":false,
     "hide_output_from_viewers":false
    }
   }
  },
  {
   "cell_type":"code",
   "source":[
    "df.to_csv('dane.csv')"
   ],
   "execution_count":40,
   "outputs":[
    
   ],
   "metadata":{
    "datalore":{
     "node_id":"IDkTkZekj9kIPd9qOOAv6y",
     "type":"CODE",
     "hide_input_from_viewers":false,
     "hide_output_from_viewers":false
    }
   }
  },
  {
   "cell_type":"code",
   "source":[
    "dnframe = pd.read_csv('dane.csv')"
   ],
   "execution_count":41,
   "outputs":[
    
   ],
   "metadata":{
    "datalore":{
     "node_id":"GuUM9LilWiILhC3D8moB9r",
     "type":"CODE",
     "hide_input_from_viewers":false,
     "hide_output_from_viewers":false
    }
   }
  },
  {
   "cell_type":"code",
   "source":[
    "dnframe"
   ],
   "execution_count":42,
   "outputs":[
    {
     "data":{
      "text\/html":[
       "<div>\n",
       "<style scoped>\n",
       "    .dataframe tbody tr th:only-of-type {\n",
       "        vertical-align: middle;\n",
       "    }\n",
       "\n",
       "    .dataframe tbody tr th {\n",
       "        vertical-align: top;\n",
       "    }\n",
       "\n",
       "    .dataframe thead th {\n",
       "        text-align: right;\n",
       "    }\n",
       "<\/style>\n",
       "<table border=\"1\" class=\"dataframe\">\n",
       "  <thead>\n",
       "    <tr style=\"text-align: right;\">\n",
       "      <th><\/th>\n",
       "      <th>Unnamed: 0<\/th>\n",
       "      <th>A<\/th>\n",
       "      <th>B<\/th>\n",
       "      <th>C<\/th>\n",
       "      <th>D<\/th>\n",
       "    <\/tr>\n",
       "  <\/thead>\n",
       "  <tbody>\n",
       "    <tr>\n",
       "      <th>0<\/th>\n",
       "      <td>2023-02-07<\/td>\n",
       "      <td>0.316170<\/td>\n",
       "      <td>0.074705<\/td>\n",
       "      <td>0.001064<\/td>\n",
       "      <td>0.795991<\/td>\n",
       "    <\/tr>\n",
       "    <tr>\n",
       "      <th>1<\/th>\n",
       "      <td>2023-02-08<\/td>\n",
       "      <td>0.156687<\/td>\n",
       "      <td>0.090128<\/td>\n",
       "      <td>0.839807<\/td>\n",
       "      <td>0.078959<\/td>\n",
       "    <\/tr>\n",
       "    <tr>\n",
       "      <th>2<\/th>\n",
       "      <td>2023-02-09<\/td>\n",
       "      <td>0.988682<\/td>\n",
       "      <td>0.969425<\/td>\n",
       "      <td>0.119700<\/td>\n",
       "      <td>0.205174<\/td>\n",
       "    <\/tr>\n",
       "    <tr>\n",
       "      <th>3<\/th>\n",
       "      <td>2023-02-10<\/td>\n",
       "      <td>0.924363<\/td>\n",
       "      <td>0.829190<\/td>\n",
       "      <td>0.969768<\/td>\n",
       "      <td>0.939323<\/td>\n",
       "    <\/tr>\n",
       "    <tr>\n",
       "      <th>4<\/th>\n",
       "      <td>2023-02-11<\/td>\n",
       "      <td>0.728227<\/td>\n",
       "      <td>0.845590<\/td>\n",
       "      <td>0.978837<\/td>\n",
       "      <td>0.435732<\/td>\n",
       "    <\/tr>\n",
       "    <tr>\n",
       "      <th>5<\/th>\n",
       "      <td>2023-02-12<\/td>\n",
       "      <td>0.668003<\/td>\n",
       "      <td>0.595073<\/td>\n",
       "      <td>0.250868<\/td>\n",
       "      <td>0.519682<\/td>\n",
       "    <\/tr>\n",
       "  <\/tbody>\n",
       "<\/table>\n",
       "<\/div>"
      ]
     },
     "metadata":{
      
     },
     "output_type":"display_data"
    }
   ],
   "metadata":{
    "datalore":{
     "node_id":"bYP08QCDsiygFD0X1ebjwB",
     "type":"CODE",
     "hide_input_from_viewers":false,
     "hide_output_from_viewers":false
    }
   }
  },
  {
   "cell_type":"code",
   "source":[
    "dnframe = pd.read_csv('dane.csv',index_col=0)"
   ],
   "execution_count":43,
   "outputs":[
    
   ],
   "metadata":{
    "datalore":{
     "node_id":"U9ytgc83LyI0BphoiIz8Ch",
     "type":"CODE",
     "hide_input_from_viewers":false,
     "hide_output_from_viewers":false
    }
   }
  },
  {
   "cell_type":"code",
   "source":[
    "dnframe"
   ],
   "execution_count":44,
   "outputs":[
    {
     "data":{
      "text\/html":[
       "<div>\n",
       "<style scoped>\n",
       "    .dataframe tbody tr th:only-of-type {\n",
       "        vertical-align: middle;\n",
       "    }\n",
       "\n",
       "    .dataframe tbody tr th {\n",
       "        vertical-align: top;\n",
       "    }\n",
       "\n",
       "    .dataframe thead th {\n",
       "        text-align: right;\n",
       "    }\n",
       "<\/style>\n",
       "<table border=\"1\" class=\"dataframe\">\n",
       "  <thead>\n",
       "    <tr style=\"text-align: right;\">\n",
       "      <th><\/th>\n",
       "      <th>A<\/th>\n",
       "      <th>B<\/th>\n",
       "      <th>C<\/th>\n",
       "      <th>D<\/th>\n",
       "    <\/tr>\n",
       "  <\/thead>\n",
       "  <tbody>\n",
       "    <tr>\n",
       "      <th>2023-02-07<\/th>\n",
       "      <td>0.316170<\/td>\n",
       "      <td>0.074705<\/td>\n",
       "      <td>0.001064<\/td>\n",
       "      <td>0.795991<\/td>\n",
       "    <\/tr>\n",
       "    <tr>\n",
       "      <th>2023-02-08<\/th>\n",
       "      <td>0.156687<\/td>\n",
       "      <td>0.090128<\/td>\n",
       "      <td>0.839807<\/td>\n",
       "      <td>0.078959<\/td>\n",
       "    <\/tr>\n",
       "    <tr>\n",
       "      <th>2023-02-09<\/th>\n",
       "      <td>0.988682<\/td>\n",
       "      <td>0.969425<\/td>\n",
       "      <td>0.119700<\/td>\n",
       "      <td>0.205174<\/td>\n",
       "    <\/tr>\n",
       "    <tr>\n",
       "      <th>2023-02-10<\/th>\n",
       "      <td>0.924363<\/td>\n",
       "      <td>0.829190<\/td>\n",
       "      <td>0.969768<\/td>\n",
       "      <td>0.939323<\/td>\n",
       "    <\/tr>\n",
       "    <tr>\n",
       "      <th>2023-02-11<\/th>\n",
       "      <td>0.728227<\/td>\n",
       "      <td>0.845590<\/td>\n",
       "      <td>0.978837<\/td>\n",
       "      <td>0.435732<\/td>\n",
       "    <\/tr>\n",
       "    <tr>\n",
       "      <th>2023-02-12<\/th>\n",
       "      <td>0.668003<\/td>\n",
       "      <td>0.595073<\/td>\n",
       "      <td>0.250868<\/td>\n",
       "      <td>0.519682<\/td>\n",
       "    <\/tr>\n",
       "  <\/tbody>\n",
       "<\/table>\n",
       "<\/div>"
      ]
     },
     "metadata":{
      
     },
     "output_type":"display_data"
    }
   ],
   "metadata":{
    "datalore":{
     "node_id":"tjeJyqhz0i1hDYtxJdrsrp",
     "type":"CODE",
     "hide_input_from_viewers":false,
     "hide_output_from_viewers":false
    }
   }
  }
 ],
 "metadata":{
  "kernelspec":{
   "display_name":"Python",
   "language":"python",
   "name":"python"
  },
  "datalore":{
   "version":1,
   "computation_mode":"JUPYTER",
   "package_manager":"pip",
   "base_environment":"default",
   "packages":[
    
   ]
  }
 },
 "nbformat":4,
 "nbformat_minor":4
}